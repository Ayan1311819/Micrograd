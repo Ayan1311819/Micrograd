{
  "nbformat": 4,
  "nbformat_minor": 0,
  "metadata": {
    "colab": {
      "provenance": [],
      "authorship_tag": "ABX9TyPNGRKjx2SHtCHiXc1iJ5Cs",
      "include_colab_link": true
    },
    "kernelspec": {
      "name": "python3",
      "display_name": "Python 3"
    },
    "language_info": {
      "name": "python"
    }
  },
  "cells": [
    {
      "cell_type": "markdown",
      "metadata": {
        "id": "view-in-github",
        "colab_type": "text"
      },
      "source": [
        "<a href=\"https://colab.research.google.com/github/Ayan1311819/Micrograd/blob/main/Micrograd.ipynb\" target=\"_parent\"><img src=\"https://colab.research.google.com/assets/colab-badge.svg\" alt=\"Open In Colab\"/></a>"
      ]
    },
    {
      "cell_type": "code",
      "execution_count": null,
      "metadata": {
        "id": "jw8qbvYORNur"
      },
      "outputs": [],
      "source": [
        "# micrograd\n",
        "class Value:\n",
        "  def __init__(self,data,_children={},_op='',label=''):\n",
        "    self.data=data\n",
        "    self._op=_op\n",
        "    self.grad = 0.0\n",
        "    self._backward = lambda:None\n",
        "    self._prev = set(_children)\n",
        "  def __repr__(self):\n",
        "    return f\"Value(data={self.data})\"\n",
        "  def __add__(self,other):\n",
        "    other = other if isinstance(other,Value) else Value(other)\n",
        "    out = Value(self.data + other.data,(self,other),'+')   #a + b = a._add_(b)\n",
        "    def _backward():\n",
        "      self.grad += 1*out.grad\n",
        "      other.grad += 1*out.grad #It overwrites if we encounter the same variable but they should get accumulate so +=\n",
        "    out._backward = _backward\n",
        "    return out\n",
        "\n",
        "  def __mul__(self,other):\n",
        "    other = other if isinstance(other,Value) else Value(other)\n",
        "    out = Value(self.data * other.data,(self,other),'*')\n",
        "    def _backward():\n",
        "      self.grad += other.data*out.grad\n",
        "      other.grad += self.data*out.grad\n",
        "    out._backward = _backward\n",
        "    return out\n",
        "  def __rmul__(self,other): #2*a = 2.__mul__(a)\n",
        "    return self*other       #a*2\n",
        "  def tanh(self):\n",
        "    n=self.data\n",
        "    t = (math.exp(2*n)-1)/(math.exp(2*n)+1)\n",
        "    out = Value(t,(self,),'tanh')\n",
        "    def _backward():\n",
        "      self.grad += (1-t**2)*out.grad\n",
        "    out._backward=_backward  #we don't want to call the func but to store them\n",
        "    return out\n",
        "  def backward(self):\n",
        "    topo=[]\n",
        "    visited = set()\n",
        "    def build_topo(v):\n",
        "      if v not in visited:\n",
        "        visited.add(v)\n",
        "        for child in v._prev:\n",
        "          build_topo(child)\n",
        "        topo.append(v)\n",
        "    build_topo(self)\n",
        "    self.grad=1.0\n",
        "    for node in reversed(topo):\n",
        "      node._backward()"
      ]
    },
    {
      "cell_type": "code",
      "source": [
        "from graphviz import Digraph\n",
        "#Code for visualization\n",
        "def trace(root):\n",
        "  # builds a set of all nodes and edges in a graph\n",
        "  nodes, edges = set(), set()\n",
        "  def build(v):\n",
        "    if v not in nodes:\n",
        "      nodes.add(v)\n",
        "      for child in v._prev:\n",
        "        edges.add((child, v))\n",
        "        build(child)\n",
        "  build(root)\n",
        "  return nodes, edges\n",
        "\n",
        "def draw_dot(root):\n",
        "  dot = Digraph(format='svg', graph_attr={'rankdir': 'LR'}) # LR = left to right\n",
        "\n",
        "  nodes, edges = trace(root)\n",
        "  for n in nodes:\n",
        "    uid = str(id(n))\n",
        "    # for any value in the graph, create a rectangular ('record') node for it\n",
        "    dot.node(name = uid, label = \"{ data %.4f | grad %.4f }\" % (n.data, n.grad), shape='record')\n",
        "    if n._op:\n",
        "      # if this value is a result of some operation, create an op node for it\n",
        "      dot.node(name = uid + n._op, label = n._op)\n",
        "      # and connect this node to it\n",
        "      dot.edge(uid + n._op, uid)\n",
        "\n",
        "  for n1, n2 in edges:\n",
        "    # connect n1 to the op node of n2\n",
        "    dot.edge(str(id(n1)), str(id(n2)) + n2._op)\n",
        "\n",
        "  return dot"
      ],
      "metadata": {
        "id": "FhPW95J4v8hB"
      },
      "execution_count": null,
      "outputs": []
    },
    {
      "cell_type": "code",
      "source": [
        "a = Value(7.5)\n",
        "b = Value(4.6)\n",
        "c = Value(9)\n",
        "m = b*c\n",
        "d=a+m\n",
        "a.label='a'\n",
        "b.label='b'\n",
        "c.label='c'\n",
        "d.label='d'\n",
        "m.label ='m'\n",
        "d.grad=1\n",
        "d._backward()\n",
        "m._backward()\n",
        "#d.backward()\n",
        "draw_dot(d)"
      ],
      "metadata": {
        "colab": {
          "base_uri": "https://localhost:8080/",
          "height": 192
        },
        "id": "Asgosn3lXvx2",
        "outputId": "27344712-77bd-4b8e-de29-3047ce316eba"
      },
      "execution_count": null,
      "outputs": [
        {
          "output_type": "execute_result",
          "data": {
            "image/svg+xml": "<?xml version=\"1.0\" encoding=\"UTF-8\" standalone=\"no\"?>\n<!DOCTYPE svg PUBLIC \"-//W3C//DTD SVG 1.1//EN\"\n \"http://www.w3.org/Graphics/SVG/1.1/DTD/svg11.dtd\">\n<!-- Generated by graphviz version 2.43.0 (0)\n -->\n<!-- Title: %3 Pages: 1 -->\n<svg width=\"760pt\" height=\"128pt\"\n viewBox=\"0.00 0.00 760.00 128.00\" xmlns=\"http://www.w3.org/2000/svg\" xmlns:xlink=\"http://www.w3.org/1999/xlink\">\n<g id=\"graph0\" class=\"graph\" transform=\"scale(1 1) rotate(0) translate(4 124)\">\n<title>%3</title>\n<polygon fill=\"white\" stroke=\"transparent\" points=\"-4,4 -4,-124 756,-124 756,4 -4,4\"/>\n<!-- 134645089597520 -->\n<g id=\"node1\" class=\"node\">\n<title>134645089597520</title>\n<polygon fill=\"none\" stroke=\"black\" points=\"0,-83.5 0,-119.5 162,-119.5 162,-83.5 0,-83.5\"/>\n<text text-anchor=\"middle\" x=\"40\" y=\"-97.8\" font-family=\"Times,serif\" font-size=\"14.00\">data 9.0000</text>\n<polyline fill=\"none\" stroke=\"black\" points=\"80,-83.5 80,-119.5 \"/>\n<text text-anchor=\"middle\" x=\"121\" y=\"-97.8\" font-family=\"Times,serif\" font-size=\"14.00\">grad 4.6000</text>\n</g>\n<!-- 134645089592720* -->\n<g id=\"node7\" class=\"node\">\n<title>134645089592720*</title>\n<ellipse fill=\"none\" stroke=\"black\" cx=\"225\" cy=\"-73.5\" rx=\"27\" ry=\"18\"/>\n<text text-anchor=\"middle\" x=\"225\" y=\"-69.8\" font-family=\"Times,serif\" font-size=\"14.00\">*</text>\n</g>\n<!-- 134645089597520&#45;&gt;134645089592720* -->\n<g id=\"edge6\" class=\"edge\">\n<title>134645089597520&#45;&gt;134645089592720*</title>\n<path fill=\"none\" stroke=\"black\" d=\"M162.13,-85.7C171.51,-83.85 180.67,-82.04 188.94,-80.41\"/>\n<polygon fill=\"black\" stroke=\"black\" points=\"189.77,-83.82 198.9,-78.45 188.42,-76.95 189.77,-83.82\"/>\n</g>\n<!-- 134645089596128 -->\n<g id=\"node2\" class=\"node\">\n<title>134645089596128</title>\n<polygon fill=\"none\" stroke=\"black\" points=\"0,-28.5 0,-64.5 162,-64.5 162,-28.5 0,-28.5\"/>\n<text text-anchor=\"middle\" x=\"40\" y=\"-42.8\" font-family=\"Times,serif\" font-size=\"14.00\">data 4.6000</text>\n<polyline fill=\"none\" stroke=\"black\" points=\"80,-28.5 80,-64.5 \"/>\n<text text-anchor=\"middle\" x=\"121\" y=\"-42.8\" font-family=\"Times,serif\" font-size=\"14.00\">grad 9.0000</text>\n</g>\n<!-- 134645089596128&#45;&gt;134645089592720* -->\n<g id=\"edge4\" class=\"edge\">\n<title>134645089596128&#45;&gt;134645089592720*</title>\n<path fill=\"none\" stroke=\"black\" d=\"M162.13,-61.74C171.51,-63.52 180.67,-65.26 188.94,-66.83\"/>\n<polygon fill=\"black\" stroke=\"black\" points=\"188.43,-70.3 198.9,-68.73 189.73,-63.42 188.43,-70.3\"/>\n</g>\n<!-- 134645089588448 -->\n<g id=\"node3\" class=\"node\">\n<title>134645089588448</title>\n<polygon fill=\"none\" stroke=\"black\" points=\"291.5,-0.5 291.5,-36.5 453.5,-36.5 453.5,-0.5 291.5,-0.5\"/>\n<text text-anchor=\"middle\" x=\"331.5\" y=\"-14.8\" font-family=\"Times,serif\" font-size=\"14.00\">data 7.5000</text>\n<polyline fill=\"none\" stroke=\"black\" points=\"371.5,-0.5 371.5,-36.5 \"/>\n<text text-anchor=\"middle\" x=\"412.5\" y=\"-14.8\" font-family=\"Times,serif\" font-size=\"14.00\">grad 1.0000</text>\n</g>\n<!-- 134645089591136+ -->\n<g id=\"node5\" class=\"node\">\n<title>134645089591136+</title>\n<ellipse fill=\"none\" stroke=\"black\" cx=\"520\" cy=\"-45.5\" rx=\"27\" ry=\"18\"/>\n<text text-anchor=\"middle\" x=\"520\" y=\"-41.8\" font-family=\"Times,serif\" font-size=\"14.00\">+</text>\n</g>\n<!-- 134645089588448&#45;&gt;134645089591136+ -->\n<g id=\"edge3\" class=\"edge\">\n<title>134645089588448&#45;&gt;134645089591136+</title>\n<path fill=\"none\" stroke=\"black\" d=\"M453.91,-33.42C464.42,-35.37 474.71,-37.28 483.89,-38.98\"/>\n<polygon fill=\"black\" stroke=\"black\" points=\"483.27,-42.43 493.74,-40.81 484.55,-35.55 483.27,-42.43\"/>\n</g>\n<!-- 134645089591136 -->\n<g id=\"node4\" class=\"node\">\n<title>134645089591136</title>\n<polygon fill=\"none\" stroke=\"black\" points=\"583,-27.5 583,-63.5 752,-63.5 752,-27.5 583,-27.5\"/>\n<text text-anchor=\"middle\" x=\"626.5\" y=\"-41.8\" font-family=\"Times,serif\" font-size=\"14.00\">data 48.9000</text>\n<polyline fill=\"none\" stroke=\"black\" points=\"670,-27.5 670,-63.5 \"/>\n<text text-anchor=\"middle\" x=\"711\" y=\"-41.8\" font-family=\"Times,serif\" font-size=\"14.00\">grad 1.0000</text>\n</g>\n<!-- 134645089591136+&#45;&gt;134645089591136 -->\n<g id=\"edge1\" class=\"edge\">\n<title>134645089591136+&#45;&gt;134645089591136</title>\n<path fill=\"none\" stroke=\"black\" d=\"M547.01,-45.5C554.58,-45.5 563.31,-45.5 572.54,-45.5\"/>\n<polygon fill=\"black\" stroke=\"black\" points=\"572.72,-49 582.72,-45.5 572.72,-42 572.72,-49\"/>\n</g>\n<!-- 134645089592720 -->\n<g id=\"node6\" class=\"node\">\n<title>134645089592720</title>\n<polygon fill=\"none\" stroke=\"black\" points=\"288,-55.5 288,-91.5 457,-91.5 457,-55.5 288,-55.5\"/>\n<text text-anchor=\"middle\" x=\"331.5\" y=\"-69.8\" font-family=\"Times,serif\" font-size=\"14.00\">data 41.4000</text>\n<polyline fill=\"none\" stroke=\"black\" points=\"375,-55.5 375,-91.5 \"/>\n<text text-anchor=\"middle\" x=\"416\" y=\"-69.8\" font-family=\"Times,serif\" font-size=\"14.00\">grad 1.0000</text>\n</g>\n<!-- 134645089592720&#45;&gt;134645089591136+ -->\n<g id=\"edge5\" class=\"edge\">\n<title>134645089592720&#45;&gt;134645089591136+</title>\n<path fill=\"none\" stroke=\"black\" d=\"M457.29,-57.37C466.62,-55.58 475.7,-53.83 483.9,-52.25\"/>\n<polygon fill=\"black\" stroke=\"black\" points=\"484.61,-55.68 493.77,-50.36 483.29,-48.81 484.61,-55.68\"/>\n</g>\n<!-- 134645089592720*&#45;&gt;134645089592720 -->\n<g id=\"edge2\" class=\"edge\">\n<title>134645089592720*&#45;&gt;134645089592720</title>\n<path fill=\"none\" stroke=\"black\" d=\"M252.01,-73.5C259.58,-73.5 268.31,-73.5 277.54,-73.5\"/>\n<polygon fill=\"black\" stroke=\"black\" points=\"277.72,-77 287.72,-73.5 277.72,-70 277.72,-77\"/>\n</g>\n</g>\n</svg>\n",
            "text/plain": [
              "<graphviz.graphs.Digraph at 0x7a7580bc59c0>"
            ]
          },
          "metadata": {},
          "execution_count": 149
        }
      ]
    },
    {
      "cell_type": "code",
      "source": [
        "#d.grad=1\n",
        "#d._backward()\n",
        "#m._backward() #If run multiple times it will accumuate the gradient multiple times\n",
        "#d.backward()\n",
        "#draw_dot(d)\n",
        "# We can update all the nodes in the direction of gradient"
      ],
      "metadata": {
        "id": "S3UMHcli9H3w"
      },
      "execution_count": null,
      "outputs": []
    },
    {
      "cell_type": "code",
      "source": [
        "#Derivative and chain rule\n",
        "#L will go up in the direction of gradient\n",
        "#We don't necessarily need to have the most atomic pieces in this value object we can create functions at arbitrary points of abstraction .\n",
        "#If you know how input affects the output that's all you need\n",
        "#Initialize L.grad with 1\n",
        "\n",
        "\n",
        "import torch\n",
        "import random\n",
        "import math\n",
        "#NEURAL NET"
      ],
      "metadata": {
        "id": "FZwM_EvWFQ22"
      },
      "execution_count": null,
      "outputs": []
    },
    {
      "cell_type": "code",
      "source": [
        "class Neuron:\n",
        "\n",
        "  def __init__(self, nin):\n",
        "    self.w = [Value(random.uniform(-1,1)) for _ in range(nin)]\n",
        "    self.b = Value(random.uniform(-1,1))\n",
        "\n",
        "  def __call__(self, x):\n",
        "    # w * x + b\n",
        "    act = sum((wi*xi for wi, xi in zip(self.w, x)), self.b)\n",
        "    out = act.tanh()\n",
        "    return out\n",
        "  def parameters(self):\n",
        "    return self.w+[self.b]\n",
        "\n",
        "class Layer:\n",
        "    def __init__(self,nin,nout):\n",
        "      self.neurons = [Neuron(nin)for _ in range(nout)]\n",
        "    def __call__(self,x):\n",
        "      outs = [n(x) for n in self.neurons]\n",
        "      return outs[0] if len(outs)==1 else outs\n",
        "    def parameters(self):\n",
        "      params=[]\n",
        "      for neuron in self.neurons:\n",
        "        ps=neuron.parameters\n",
        "        params.extend(ps)\n",
        "      return params\n",
        "\n",
        "class MLP:\n",
        "  def __init__(self,nin,nouts):\n",
        "    sz = [nin] + nouts\n",
        "    self.layers = [Layer(sz[i],sz[i+1]) for i in range (len(nouts))]\n",
        "  def __call__(self,x):\n",
        "    for layer in self.layers:\n",
        "      x = layer(x)\n",
        "    return x\n",
        "  def parameters(self):\n",
        "    return [ p for layer in self.layers for p in layer.parameters()]\n"
      ],
      "metadata": {
        "id": "c5f3ckFOGwwe"
      },
      "execution_count": null,
      "outputs": []
    },
    {
      "cell_type": "code",
      "source": [
        "x=[2.0,4.0]\n",
        "n = MLP(2,[3,5,1])\n",
        "n(x)\n",
        "#draw_dot(n(x))"
      ],
      "metadata": {
        "colab": {
          "base_uri": "https://localhost:8080/"
        },
        "id": "aqWM4a7_wthN",
        "outputId": "c538ef00-8aaa-4ae9-fdc2-b3389c66c7ea"
      },
      "execution_count": null,
      "outputs": [
        {
          "output_type": "execute_result",
          "data": {
            "text/plain": [
              "Value(data=-0.8059151578202923)"
            ]
          },
          "metadata": {},
          "execution_count": 167
        }
      ]
    },
    {
      "cell_type": "code",
      "source": [
        "R = (n(x))\n",
        "R.backward()\n",
        "#draw_dot(R)"
      ],
      "metadata": {
        "id": "8-JA0bZWOFz0"
      },
      "execution_count": null,
      "outputs": []
    },
    {
      "cell_type": "code",
      "source": [],
      "metadata": {
        "id": "UBY4gtzgVqeA"
      },
      "execution_count": null,
      "outputs": []
    },
    {
      "cell_type": "code",
      "source": [],
      "metadata": {
        "id": "9nfeW_430dKu"
      },
      "execution_count": null,
      "outputs": []
    }
  ]
}